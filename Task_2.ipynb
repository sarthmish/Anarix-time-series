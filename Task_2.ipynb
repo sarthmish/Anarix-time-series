{
  "nbformat": 4,
  "nbformat_minor": 0,
  "metadata": {
    "colab": {
      "provenance": []
    },
    "kernelspec": {
      "name": "python3",
      "display_name": "Python 3"
    },
    "language_info": {
      "name": "python"
    }
  },
  "cells": [
    {
      "cell_type": "code",
      "execution_count": 5,
      "metadata": {
        "colab": {
          "base_uri": "https://localhost:8080/"
        },
        "id": "pS8c49awa89q",
        "outputId": "d68b17dd-2fbd-4556-a546-411ff049dcf4"
      },
      "outputs": [
        {
          "output_type": "stream",
          "name": "stdout",
          "text": [
            "Drive already mounted at /content/drive; to attempt to forcibly remount, call drive.mount(\"/content/drive\", force_remount=True).\n"
          ]
        }
      ],
      "source": [
        "import pandas as pd\n",
        "import numpy as np\n",
        "from sklearn.model_selection import train_test_split\n",
        "from sklearn.metrics import mean_squared_error\n",
        "import xgboost as xgb\n",
        "from google.colab import drive\n",
        "\n",
        "# Mount Google Drive\n",
        "drive.mount('/content/drive')\n",
        "\n",
        "# Load data\n",
        "train_df = pd.read_csv('/content/drive/MyDrive/train.csv')\n",
        "test_df = pd.read_csv('/content/drive/MyDrive/test.csv')\n",
        "\n",
        "# Convert date to datetime\n",
        "train_df['date'] = pd.to_datetime(train_df['date'])\n",
        "test_df['date'] = pd.to_datetime(test_df['date'])\n",
        "\n",
        "# Feature Engineering: Create lag features and rolling statistics without ad spend data\n",
        "for lag in range(1, 8):\n",
        "    train_df[f'lag_{lag}'] = train_df['units'].shift(lag)\n",
        "\n",
        "train_df['rolling_mean_7'] = train_df['units'].rolling(window=7).mean()\n",
        "train_df['rolling_std_7'] = train_df['units'].rolling(window=7).std()\n",
        "\n",
        "# Drop rows with NaN values created by lag features\n",
        "train_df.dropna(inplace=True)\n",
        "\n",
        "# For test data, we'll need to handle it carefully since there's no 'units' column\n",
        "test_lag_features = pd.concat([train_df[['date', 'units']].tail(7).shift(i) for i in range(1, 8)], axis=1)\n",
        "# Generate 14 column names because we concatenated 7 DataFrames with 2 columns each\n",
        "test_lag_features.columns = [f'lag_{i}_{j}' for i in range(1, 8) for j in range(2)]\n",
        "test_lag_features = test_lag_features.iloc[7:]\n",
        "test_df = pd.concat([test_df.reset_index(drop=True), test_lag_features.reset_index(drop=True)], axis=1)\n",
        "\n",
        "test_df['rolling_mean_7'] = train_df['units'].rolling(window=7).mean().iloc[-1]\n",
        "test_df['rolling_std_7'] = train_df['units'].rolling(window=7).std().iloc[-1]"
      ]
    },
    {
      "cell_type": "code",
      "source": [
        "!pip install --upgrade scikit-learn\n",
        "\n",
        "# Convert 'Item Id' and 'anarix_id' to numerical representations\n",
        "# Assuming they are categorical, you can use Label Encoding or One-Hot Encoding\n",
        "\n",
        "# Example using Label Encoding:\n",
        "from sklearn.preprocessing import LabelEncoder\n",
        "\n",
        "label_encoder_item = LabelEncoder() # Create a separate encoder for 'Item Id'\n",
        "label_encoder_anarix = LabelEncoder() # Create a separate encoder for 'anarix_id'\n",
        "\n",
        "# Fit and transform on the training data\n",
        "X_train['Item Id'] = label_encoder_item.fit_transform(X_train['Item Id'])\n",
        "X_train['anarix_id'] = label_encoder_anarix.fit_transform(X_train['anarix_id'])\n",
        "\n",
        "# For handling unknown labels in the validation set, we'll manually map them to a new value\n",
        "X_valid['Item Id'] = X_valid['Item Id'].map(lambda s: '<unknown>' if s not in label_encoder_item.classes_ else s)\n",
        "X_valid['anarix_id'] = X_valid['anarix_id'].map(lambda s: '<unknown>' if s not in label_encoder_anarix.classes_ else s)\n",
        "\n",
        "# Add the '<unknown>' label to the encoders\n",
        "import bisect\n",
        "le_classes_item = label_encoder_item.classes_.tolist()\n",
        "# Convert all elements in le_classes_item to strings to ensure consistency\n",
        "le_classes_item = [str(item) for item in le_classes_item]\n",
        "bisect.insort_left(le_classes_item, '<unknown>')\n",
        "label_encoder_item.classes_ = np.array(le_classes_item) # Convert the list back to a NumPy array\n",
        "\n",
        "le_classes_anarix = label_encoder_anarix.classes_.tolist()\n",
        "# Convert all elements in le_classes_anarix to strings to ensure consistency\n",
        "le_classes_anarix = [str(item) for item in le_classes_anarix]\n",
        "bisect.insort_left(le_classes_anarix, '<unknown>')\n",
        "label_encoder_anarix.classes_ = np.array(le_classes_anarix) # Convert the list back to a NumPy array\n",
        "\n",
        "# Now transform the validation data\n",
        "X_valid['Item Id'] = label_encoder_item.transform(X_valid['Item Id'])\n",
        "X_valid['anarix_id'] = label_encoder_anarix.transform(X_valid['anarix_id'])\n",
        "\n",
        "# Now try fitting the model again using the encoded data\n",
        "model.fit(X_train, y_train,\n",
        "          eval_set=[(X_valid, y_valid)],\n",
        "          callbacks=[early_stopping(stopping_rounds=50, verbose=True)])"
      ],
      "metadata": {
        "colab": {
          "base_uri": "https://localhost:8080/",
          "height": 335
        },
        "id": "X7KU1QA9bMuy",
        "outputId": "c5aa8883-b44f-485b-ced5-f964f3b0195f"
      },
      "execution_count": 20,
      "outputs": [
        {
          "output_type": "stream",
          "name": "stdout",
          "text": [
            "Requirement already satisfied: scikit-learn in /usr/local/lib/python3.10/dist-packages (1.5.1)\n",
            "Requirement already satisfied: numpy>=1.19.5 in /usr/local/lib/python3.10/dist-packages (from scikit-learn) (1.26.4)\n",
            "Requirement already satisfied: scipy>=1.6.0 in /usr/local/lib/python3.10/dist-packages (from scikit-learn) (1.13.1)\n",
            "Requirement already satisfied: joblib>=1.2.0 in /usr/local/lib/python3.10/dist-packages (from scikit-learn) (1.4.2)\n",
            "Requirement already satisfied: threadpoolctl>=3.1.0 in /usr/local/lib/python3.10/dist-packages (from scikit-learn) (3.5.0)\n",
            "[LightGBM] [Warning] Found whitespace in feature_names, replace with underlines\n",
            "[LightGBM] [Info] Auto-choosing col-wise multi-threading, the overhead of testing was 0.005308 seconds.\n",
            "You can set `force_col_wise=true` to remove the overhead.\n",
            "[LightGBM] [Info] Total Bins 2747\n",
            "[LightGBM] [Info] Number of data points in the train set: 27104, number of used features: 11\n",
            "[LightGBM] [Warning] Found whitespace in feature_names, replace with underlines\n",
            "[LightGBM] [Info] Start training from score 12.661194\n",
            "Training until validation scores don't improve for 50 rounds\n",
            "Early stopping, best iteration is:\n",
            "[225]\tvalid_0's l2: 4047.99\n"
          ]
        },
        {
          "output_type": "execute_result",
          "data": {
            "text/plain": [
              "LGBMRegressor(learning_rate=0.05, n_estimators=1000)"
            ],
            "text/html": [
              "<style>#sk-container-id-1 {color: black;}#sk-container-id-1 pre{padding: 0;}#sk-container-id-1 div.sk-toggleable {background-color: white;}#sk-container-id-1 label.sk-toggleable__label {cursor: pointer;display: block;width: 100%;margin-bottom: 0;padding: 0.3em;box-sizing: border-box;text-align: center;}#sk-container-id-1 label.sk-toggleable__label-arrow:before {content: \"▸\";float: left;margin-right: 0.25em;color: #696969;}#sk-container-id-1 label.sk-toggleable__label-arrow:hover:before {color: black;}#sk-container-id-1 div.sk-estimator:hover label.sk-toggleable__label-arrow:before {color: black;}#sk-container-id-1 div.sk-toggleable__content {max-height: 0;max-width: 0;overflow: hidden;text-align: left;background-color: #f0f8ff;}#sk-container-id-1 div.sk-toggleable__content pre {margin: 0.2em;color: black;border-radius: 0.25em;background-color: #f0f8ff;}#sk-container-id-1 input.sk-toggleable__control:checked~div.sk-toggleable__content {max-height: 200px;max-width: 100%;overflow: auto;}#sk-container-id-1 input.sk-toggleable__control:checked~label.sk-toggleable__label-arrow:before {content: \"▾\";}#sk-container-id-1 div.sk-estimator input.sk-toggleable__control:checked~label.sk-toggleable__label {background-color: #d4ebff;}#sk-container-id-1 div.sk-label input.sk-toggleable__control:checked~label.sk-toggleable__label {background-color: #d4ebff;}#sk-container-id-1 input.sk-hidden--visually {border: 0;clip: rect(1px 1px 1px 1px);clip: rect(1px, 1px, 1px, 1px);height: 1px;margin: -1px;overflow: hidden;padding: 0;position: absolute;width: 1px;}#sk-container-id-1 div.sk-estimator {font-family: monospace;background-color: #f0f8ff;border: 1px dotted black;border-radius: 0.25em;box-sizing: border-box;margin-bottom: 0.5em;}#sk-container-id-1 div.sk-estimator:hover {background-color: #d4ebff;}#sk-container-id-1 div.sk-parallel-item::after {content: \"\";width: 100%;border-bottom: 1px solid gray;flex-grow: 1;}#sk-container-id-1 div.sk-label:hover label.sk-toggleable__label {background-color: #d4ebff;}#sk-container-id-1 div.sk-serial::before {content: \"\";position: absolute;border-left: 1px solid gray;box-sizing: border-box;top: 0;bottom: 0;left: 50%;z-index: 0;}#sk-container-id-1 div.sk-serial {display: flex;flex-direction: column;align-items: center;background-color: white;padding-right: 0.2em;padding-left: 0.2em;position: relative;}#sk-container-id-1 div.sk-item {position: relative;z-index: 1;}#sk-container-id-1 div.sk-parallel {display: flex;align-items: stretch;justify-content: center;background-color: white;position: relative;}#sk-container-id-1 div.sk-item::before, #sk-container-id-1 div.sk-parallel-item::before {content: \"\";position: absolute;border-left: 1px solid gray;box-sizing: border-box;top: 0;bottom: 0;left: 50%;z-index: -1;}#sk-container-id-1 div.sk-parallel-item {display: flex;flex-direction: column;z-index: 1;position: relative;background-color: white;}#sk-container-id-1 div.sk-parallel-item:first-child::after {align-self: flex-end;width: 50%;}#sk-container-id-1 div.sk-parallel-item:last-child::after {align-self: flex-start;width: 50%;}#sk-container-id-1 div.sk-parallel-item:only-child::after {width: 0;}#sk-container-id-1 div.sk-dashed-wrapped {border: 1px dashed gray;margin: 0 0.4em 0.5em 0.4em;box-sizing: border-box;padding-bottom: 0.4em;background-color: white;}#sk-container-id-1 div.sk-label label {font-family: monospace;font-weight: bold;display: inline-block;line-height: 1.2em;}#sk-container-id-1 div.sk-label-container {text-align: center;}#sk-container-id-1 div.sk-container {/* jupyter's `normalize.less` sets `[hidden] { display: none; }` but bootstrap.min.css set `[hidden] { display: none !important; }` so we also need the `!important` here to be able to override the default hidden behavior on the sphinx rendered scikit-learn.org. See: https://github.com/scikit-learn/scikit-learn/issues/21755 */display: inline-block !important;position: relative;}#sk-container-id-1 div.sk-text-repr-fallback {display: none;}</style><div id=\"sk-container-id-1\" class=\"sk-top-container\"><div class=\"sk-text-repr-fallback\"><pre>LGBMRegressor(learning_rate=0.05, n_estimators=1000)</pre><b>In a Jupyter environment, please rerun this cell to show the HTML representation or trust the notebook. <br />On GitHub, the HTML representation is unable to render, please try loading this page with nbviewer.org.</b></div><div class=\"sk-container\" hidden><div class=\"sk-item\"><div class=\"sk-estimator sk-toggleable\"><input class=\"sk-toggleable__control sk-hidden--visually\" id=\"sk-estimator-id-1\" type=\"checkbox\" checked><label for=\"sk-estimator-id-1\" class=\"sk-toggleable__label sk-toggleable__label-arrow\">LGBMRegressor</label><div class=\"sk-toggleable__content\"><pre>LGBMRegressor(learning_rate=0.05, n_estimators=1000)</pre></div></div></div></div></div>"
            ]
          },
          "metadata": {},
          "execution_count": 20
        }
      ]
    },
    {
      "cell_type": "code",
      "source": [
        "import pandas as pd\n",
        "import numpy as np\n",
        "from sklearn.preprocessing import LabelEncoder\n",
        "import xgboost as xgb\n",
        "\n",
        "# Load test data\n",
        "test_df = pd.read_csv('/content/drive/MyDrive/test.csv')\n",
        "\n",
        "# Convert date to datetime\n",
        "test_df['date'] = pd.to_datetime(test_df['date'])\n",
        "\n",
        "# Feature Engineering on test data without 'units'\n",
        "# Here, we will use the last available values from the train data for rolling features and lags\n",
        "last_train_date = train_df['date'].max()\n",
        "\n",
        "# Create lag features and rolling statistics based on the last available data from the training set\n",
        "last_week_data = train_df[train_df['date'] > last_train_date - pd.Timedelta(days=7)]\n",
        "for lag in range(1, 8):\n",
        "    test_df[f'lag_{lag}'] = last_week_data['units'].values[-lag]\n",
        "\n",
        "# Rolling mean and std based on the last week of the training data\n",
        "test_df['rolling_mean_7'] = last_week_data['units'].mean()\n",
        "test_df['rolling_std_7'] = last_week_data['units'].std()\n",
        "\n",
        "# Convert 'Item Id' and 'anarix_id' to numerical representations using Label Encoders created during training\n",
        "test_df['Item Id'] = test_df['Item Id'].map(lambda s: '<unknown>' if s not in label_encoder_item.classes_ else s)\n",
        "test_df['anarix_id'] = test_df['anarix_id'].map(lambda s: '<unknown>' if s not in label_encoder_anarix.classes_ else s)\n",
        "\n",
        "# Add the '<unknown>' label to the encoders\n",
        "import bisect\n",
        "le_classes_item = label_encoder_item.classes_.tolist()\n",
        "le_classes_item = [str(item) for item in le_classes_item]  # Ensure all elements are strings\n",
        "bisect.insort_left(le_classes_item, '<unknown>')\n",
        "label_encoder_item.classes_ = np.array(le_classes_item)  # Convert the list back to a NumPy array\n",
        "\n",
        "le_classes_anarix = label_encoder_anarix.classes_.tolist()\n",
        "le_classes_anarix = [str(item) for item in le_classes_anarix]  # Ensure all elements are strings\n",
        "bisect.insort_left(le_classes_anarix, '<unknown>')\n",
        "label_encoder_anarix.classes_ = np.array(le_classes_anarix)  # Convert the list back to a NumPy array\n",
        "\n",
        "# Now transform the test data\n",
        "test_df['Item Id'] = label_encoder_item.transform(test_df['Item Id'])\n",
        "test_df['anarix_id'] = label_encoder_anarix.transform(test_df['anarix_id'])\n",
        "\n",
        "# Features for prediction\n",
        "features = [col for col in test_df.columns if col not in ['date', 'units', 'ID', 'ad_spend', 'Item Name']]\n",
        "\n",
        "# Generate predictions for the test set\n",
        "test_preds = model.predict(test_df[features])\n",
        "test_df['units'] = test_preds\n",
        "\n",
        "# Ensure the predictions include the ID column from the test set\n",
        "submission = test_df[['ID', 'units']]\n",
        "\n",
        "# Save the predictions to CSV\n",
        "submission.to_csv('/content/drive/MyDrive/sample_submission.csv', index=False)\n"
      ],
      "metadata": {
        "id": "gM0JgM-ShimK"
      },
      "execution_count": 32,
      "outputs": []
    }
  ]
}